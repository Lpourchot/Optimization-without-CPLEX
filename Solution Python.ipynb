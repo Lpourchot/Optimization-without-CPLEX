{
 "cells": [
  {
   "attachments": {
    "278cc4ee-7c05-4ec8-9dcc-184cf286f32c.png": {
     "image/png": "[encoded data removed]"
    }
   },
   "cell_type": "markdown",
   "metadata": {},
   "source": [
    "![image.png](attachment:278cc4ee-7c05-4ec8-9dcc-184cf286f32c.png)"
   ]
  },
  {
   "cell_type": "code",
   "execution_count": 55,
   "metadata": {},
   "outputs": [
    {
     "name": "stdout",
     "output_type": "stream",
     "text": [
      "dérivée partielle du Lagrangien selon x, et condition de Kuhn-Tucker : -0.2*a - 0.5*b + 12 <= 0\n",
      "dérivée partielle du Lagrangien selon y, et condition de Kuhn-Tucker : -0.4*a - 0.4*b + 20 <= 0\n",
      "dérivée partielle du Lagrangien selon a, et condition de Kuhn-Tucker : -0.2*x - 0.4*y + 400 = 0\n",
      "dérivée partielle du Lagrangien selon b, et condition de Kuhn-Tucker : -0.5*x - 0.4*y + 490 = 0\n"
     ]
    }
   ],
   "source": [
    "import sympy as sp\n",
    "import numpy as np\n",
    "\n",
    "x = sp.Symbol('x') # Nombre de téléphones de bureau \n",
    "y = sp.Symbol('y') # Nombre de téléphones mobile\n",
    "\n",
    "# les coefficients de Kuhn-Tucker :\n",
    "a = sp.Symbol('a')\n",
    "b = sp.Symbol('b')\n",
    "\n",
    "# Lagrangien :\n",
    "L = 12*x + 20*y - a*(0.2*x+0.4*y-400) - b*(0.5*x+0.4*y-490)\n",
    "\n",
    "# Dérivées partielles :\n",
    "\n",
    "dL_dx = sp.diff(L,x)\n",
    "dL_dy = sp.diff(L,y)\n",
    "dL_da = sp.diff(L,a)\n",
    "dL_db = sp.diff(L,b)\n",
    "print(\"dérivée partielle du Lagrangien selon x, et condition de Kuhn-Tucker :\",dL_dx,\"<= 0\")\n",
    "print(\"dérivée partielle du Lagrangien selon y, et condition de Kuhn-Tucker :\",dL_dy,\"<= 0\")\n",
    "print(\"dérivée partielle du Lagrangien selon a, et condition de Kuhn-Tucker :\",dL_da,\"= 0\")\n",
    "print(\"dérivée partielle du Lagrangien selon b, et condition de Kuhn-Tucker :\",dL_db,\"= 0\")\n"
   ]
  },
  {
   "cell_type": "code",
   "execution_count": 57,
   "metadata": {},
   "outputs": [
    {
     "name": "stdout",
     "output_type": "stream",
     "text": [
      "on peut produire 300.0 téléphones fixes et 850.0 téléphones mobiles\n"
     ]
    }
   ],
   "source": [
    "\"\"\"\n",
    "Nous supposons (sans démonstration) que la fonction objectif est concave et les contraintes sont convexes, donc\n",
    "les conditions de Kuhn-Tucker sont des conditions nécessaires et suffisantes d’optimalité\n",
    "\n",
    "\"\"\"\n",
    "\n",
    "from scipy.optimize import fsolve\n",
    "def syst(var): # définition du système\n",
    "    x, y, a, b = var[0], var[1], var[2], var[3] # définition des variables\n",
    "    \n",
    "    #relations d’exclusion :\n",
    "    \n",
    "    eq1 = (12-0.2*a-0.5*b)\n",
    "    eq2 = (20-0.4*a-0.4*b)\n",
    "    eq3 = (400-0.2*x-0.4*y)\n",
    "    eq4 = (490-0.5*x-0.4*y)\n",
    "    res = [eq1, eq2, eq3, eq4]\n",
    "    return res\n",
    "\n",
    "x0, y0, a0, b0 = 0, 0, 0, 0 \n",
    "sol_ini = [x0, y0, a0, b0]\n",
    "\n",
    "resultat=np.array(fsolve(syst, sol_ini))\n",
    "\n",
    "print('on peut produire {} téléphones fixes et {} téléphones mobiles'.format(round(resultat[0]),round(resultat[1])))"
   ]
  },
  {
   "cell_type": "code",
   "execution_count": null,
   "metadata": {},
   "outputs": [],
   "source": [
    "\n"
   ]
  },
  {
   "cell_type": "code",
   "execution_count": null,
   "metadata": {},
   "outputs": [],
   "source": []
  }
 ],
 "metadata": {
  "kernelspec": {
   "display_name": "Python 3",
   "language": "python",
   "name": "python3"
  },
  "language_info": {
   "codemirror_mode": {
    "name": "ipython",
    "version": 3
   },
   "file_extension": ".py",
   "mimetype": "text/x-python",
   "name": "python",
   "nbconvert_exporter": "python",
   "pygments_lexer": "ipython3",
   "version": "3.8.3"
  }
 },
 "nbformat": 4,
 "nbformat_minor": 4
}
